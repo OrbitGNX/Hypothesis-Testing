{
 "cells": [
  {
   "cell_type": "markdown",
   "id": "7577b8fc",
   "metadata": {},
   "source": [
    "# Manufacturing Defects <hr style=\"border:2.5px solid #126782\"></hr>"
   ]
  },
  {
   "cell_type": "markdown",
   "id": "73190e06",
   "metadata": {},
   "source": [
    "<b>Gyro A. Madrona</b><br>\n",
    "Data Analyst"
   ]
  },
  {
   "cell_type": "code",
   "execution_count": 529,
   "id": "4a3f2cbf",
   "metadata": {},
   "outputs": [],
   "source": [
    "# imports and packages\n",
    "import pandas as pd\n",
    "import numpy as np\n",
    "import matplotlib.pyplot as plt\n",
    "from scipy import stats\n",
    "from statsmodels.stats.proportion import (\n",
    "    proportions_chisquare,\n",
    "    proportions_ztest,\n",
    "    proportion_effectsize)\n",
    "from statsmodels.stats.power import TTestIndPower"
   ]
  },
  {
   "cell_type": "markdown",
   "id": "2eca1387",
   "metadata": {},
   "source": [
    "# EDA"
   ]
  },
  {
   "cell_type": "code",
   "execution_count": 530,
   "id": "c16b8552",
   "metadata": {},
   "outputs": [
    {
     "data": {
      "application/vnd.microsoft.datawrangler.viewer.v0+json": {
       "columns": [
        {
         "name": "index",
         "rawType": "int64",
         "type": "integer"
        },
        {
         "name": "defect_id",
         "rawType": "int64",
         "type": "integer"
        },
        {
         "name": "product_id",
         "rawType": "int64",
         "type": "integer"
        },
        {
         "name": "defect_type",
         "rawType": "object",
         "type": "string"
        },
        {
         "name": "defect_date",
         "rawType": "object",
         "type": "string"
        },
        {
         "name": "defect_location",
         "rawType": "object",
         "type": "string"
        },
        {
         "name": "severity",
         "rawType": "object",
         "type": "string"
        },
        {
         "name": "inspection_method",
         "rawType": "object",
         "type": "string"
        },
        {
         "name": "repair_cost",
         "rawType": "float64",
         "type": "float"
        }
       ],
       "conversionMethod": "pd.DataFrame",
       "ref": "41c4a742-f0f9-470f-bc27-40a2668d2d78",
       "rows": [
        [
         "0",
         "1",
         "15",
         "Structural",
         "6/6/2024",
         "Component",
         "Minor",
         "Visual Inspection",
         "245.47"
        ],
        [
         "1",
         "2",
         "6",
         "Functional",
         "4/26/2024",
         "Component",
         "Minor",
         "Visual Inspection",
         "26.87"
        ],
        [
         "2",
         "3",
         "84",
         "Structural",
         "2/15/2024",
         "Internal",
         "Minor",
         "Automated Testing",
         "835.81"
        ],
        [
         "3",
         "4",
         "10",
         "Functional",
         "3/28/2024",
         "Internal",
         "Critical",
         "Automated Testing",
         "444.47"
        ],
        [
         "4",
         "5",
         "14",
         "Cosmetic",
         "4/26/2024",
         "Component",
         "Minor",
         "Manual Testing",
         "823.64"
        ],
        [
         "5",
         "6",
         "17",
         "Functional",
         "5/11/2024",
         "Internal",
         "Moderate",
         "Visual Inspection",
         "788.11"
        ],
        [
         "6",
         "7",
         "85",
         "Cosmetic",
         "5/23/2024",
         "Internal",
         "Critical",
         "Manual Testing",
         "33.68"
        ],
        [
         "7",
         "8",
         "90",
         "Structural",
         "1/15/2024",
         "Internal",
         "Moderate",
         "Manual Testing",
         "65.56"
        ],
        [
         "8",
         "9",
         "30",
         "Structural",
         "1/26/2024",
         "Component",
         "Critical",
         "Manual Testing",
         "848.61"
        ],
        [
         "9",
         "10",
         "20",
         "Structural",
         "6/5/2024",
         "Component",
         "Critical",
         "Visual Inspection",
         "478.48"
        ],
        [
         "10",
         "11",
         "45",
         "Structural",
         "4/28/2024",
         "Surface",
         "Moderate",
         "Automated Testing",
         "217.96"
        ],
        [
         "11",
         "12",
         "86",
         "Structural",
         "2/25/2024",
         "Component",
         "Minor",
         "Manual Testing",
         "485.02"
        ],
        [
         "12",
         "13",
         "87",
         "Cosmetic",
         "6/20/2024",
         "Component",
         "Minor",
         "Visual Inspection",
         "714.63"
        ],
        [
         "13",
         "14",
         "72",
         "Cosmetic",
         "5/8/2024",
         "Surface",
         "Critical",
         "Manual Testing",
         "603.94"
        ],
        [
         "14",
         "15",
         "74",
         "Cosmetic",
         "5/3/2024",
         "Component",
         "Critical",
         "Manual Testing",
         "189.55"
        ],
        [
         "15",
         "16",
         "10",
         "Functional",
         "1/20/2024",
         "Component",
         "Minor",
         "Automated Testing",
         "458.79"
        ],
        [
         "16",
         "17",
         "53",
         "Structural",
         "5/14/2024",
         "Internal",
         "Minor",
         "Visual Inspection",
         "509.35"
        ],
        [
         "17",
         "18",
         "63",
         "Cosmetic",
         "5/21/2024",
         "Component",
         "Critical",
         "Visual Inspection",
         "538.99"
        ],
        [
         "18",
         "19",
         "28",
         "Functional",
         "2/15/2024",
         "Internal",
         "Critical",
         "Manual Testing",
         "34.93"
        ],
        [
         "19",
         "20",
         "81",
         "Structural",
         "5/25/2024",
         "Internal",
         "Moderate",
         "Manual Testing",
         "557.11"
        ],
        [
         "20",
         "21",
         "67",
         "Functional",
         "5/3/2024",
         "Surface",
         "Minor",
         "Visual Inspection",
         "831.43"
        ],
        [
         "21",
         "22",
         "6",
         "Structural",
         "3/6/2024",
         "Surface",
         "Minor",
         "Visual Inspection",
         "504.9"
        ],
        [
         "22",
         "23",
         "33",
         "Structural",
         "5/6/2024",
         "Surface",
         "Moderate",
         "Automated Testing",
         "349.23"
        ],
        [
         "23",
         "24",
         "15",
         "Structural",
         "2/23/2024",
         "Component",
         "Critical",
         "Visual Inspection",
         "560.39"
        ],
        [
         "24",
         "25",
         "13",
         "Cosmetic",
         "2/19/2024",
         "Surface",
         "Moderate",
         "Manual Testing",
         "629.71"
        ],
        [
         "25",
         "26",
         "39",
         "Structural",
         "6/15/2024",
         "Component",
         "Moderate",
         "Visual Inspection",
         "975.44"
        ],
        [
         "26",
         "27",
         "60",
         "Cosmetic",
         "5/8/2024",
         "Component",
         "Moderate",
         "Manual Testing",
         "737.54"
        ],
        [
         "27",
         "28",
         "42",
         "Structural",
         "1/2/2024",
         "Component",
         "Critical",
         "Manual Testing",
         "592.87"
        ],
        [
         "28",
         "29",
         "3",
         "Structural",
         "1/13/2024",
         "Component",
         "Moderate",
         "Automated Testing",
         "99.82"
        ],
        [
         "29",
         "30",
         "17",
         "Functional",
         "1/22/2024",
         "Surface",
         "Critical",
         "Visual Inspection",
         "106.34"
        ],
        [
         "30",
         "31",
         "30",
         "Structural",
         "4/30/2024",
         "Surface",
         "Critical",
         "Automated Testing",
         "352.58"
        ],
        [
         "31",
         "32",
         "25",
         "Structural",
         "3/29/2024",
         "Surface",
         "Moderate",
         "Visual Inspection",
         "734.12"
        ],
        [
         "32",
         "33",
         "14",
         "Cosmetic",
         "5/15/2024",
         "Internal",
         "Minor",
         "Visual Inspection",
         "953.54"
        ],
        [
         "33",
         "34",
         "58",
         "Structural",
         "6/19/2024",
         "Surface",
         "Critical",
         "Manual Testing",
         "753.89"
        ],
        [
         "34",
         "35",
         "48",
         "Functional",
         "4/4/2024",
         "Component",
         "Critical",
         "Automated Testing",
         "955.91"
        ],
        [
         "35",
         "36",
         "20",
         "Structural",
         "6/4/2024",
         "Surface",
         "Critical",
         "Automated Testing",
         "776.91"
        ],
        [
         "36",
         "37",
         "68",
         "Cosmetic",
         "1/20/2024",
         "Internal",
         "Critical",
         "Manual Testing",
         "607.96"
        ],
        [
         "37",
         "38",
         "51",
         "Functional",
         "6/8/2024",
         "Internal",
         "Moderate",
         "Automated Testing",
         "107.7"
        ],
        [
         "38",
         "39",
         "12",
         "Functional",
         "6/25/2024",
         "Internal",
         "Critical",
         "Manual Testing",
         "27.24"
        ],
        [
         "39",
         "40",
         "92",
         "Cosmetic",
         "1/6/2024",
         "Surface",
         "Critical",
         "Visual Inspection",
         "370.83"
        ],
        [
         "40",
         "41",
         "63",
         "Functional",
         "3/11/2024",
         "Component",
         "Minor",
         "Manual Testing",
         "526.08"
        ],
        [
         "41",
         "42",
         "49",
         "Functional",
         "5/18/2024",
         "Surface",
         "Critical",
         "Automated Testing",
         "144.38"
        ],
        [
         "42",
         "43",
         "72",
         "Cosmetic",
         "3/23/2024",
         "Surface",
         "Moderate",
         "Visual Inspection",
         "534.33"
        ],
        [
         "43",
         "44",
         "24",
         "Structural",
         "5/18/2024",
         "Surface",
         "Minor",
         "Visual Inspection",
         "456.8"
        ],
        [
         "44",
         "45",
         "64",
         "Functional",
         "5/27/2024",
         "Surface",
         "Minor",
         "Automated Testing",
         "215.01"
        ],
        [
         "45",
         "46",
         "36",
         "Structural",
         "4/24/2024",
         "Surface",
         "Moderate",
         "Manual Testing",
         "824.3"
        ],
        [
         "46",
         "47",
         "79",
         "Structural",
         "2/14/2024",
         "Component",
         "Critical",
         "Manual Testing",
         "769.28"
        ],
        [
         "47",
         "48",
         "36",
         "Structural",
         "1/3/2024",
         "Component",
         "Moderate",
         "Manual Testing",
         "160.25"
        ],
        [
         "48",
         "49",
         "65",
         "Functional",
         "2/24/2024",
         "Component",
         "Minor",
         "Automated Testing",
         "386.17"
        ],
        [
         "49",
         "50",
         "9",
         "Functional",
         "1/6/2024",
         "Component",
         "Moderate",
         "Manual Testing",
         "572.08"
        ]
       ],
       "shape": {
        "columns": 8,
        "rows": 1000
       }
      },
      "text/html": [
       "<div>\n",
       "<style scoped>\n",
       "    .dataframe tbody tr th:only-of-type {\n",
       "        vertical-align: middle;\n",
       "    }\n",
       "\n",
       "    .dataframe tbody tr th {\n",
       "        vertical-align: top;\n",
       "    }\n",
       "\n",
       "    .dataframe thead th {\n",
       "        text-align: right;\n",
       "    }\n",
       "</style>\n",
       "<table border=\"1\" class=\"dataframe\">\n",
       "  <thead>\n",
       "    <tr style=\"text-align: right;\">\n",
       "      <th></th>\n",
       "      <th>defect_id</th>\n",
       "      <th>product_id</th>\n",
       "      <th>defect_type</th>\n",
       "      <th>defect_date</th>\n",
       "      <th>defect_location</th>\n",
       "      <th>severity</th>\n",
       "      <th>inspection_method</th>\n",
       "      <th>repair_cost</th>\n",
       "    </tr>\n",
       "  </thead>\n",
       "  <tbody>\n",
       "    <tr>\n",
       "      <th>0</th>\n",
       "      <td>1</td>\n",
       "      <td>15</td>\n",
       "      <td>Structural</td>\n",
       "      <td>6/6/2024</td>\n",
       "      <td>Component</td>\n",
       "      <td>Minor</td>\n",
       "      <td>Visual Inspection</td>\n",
       "      <td>245.47</td>\n",
       "    </tr>\n",
       "    <tr>\n",
       "      <th>1</th>\n",
       "      <td>2</td>\n",
       "      <td>6</td>\n",
       "      <td>Functional</td>\n",
       "      <td>4/26/2024</td>\n",
       "      <td>Component</td>\n",
       "      <td>Minor</td>\n",
       "      <td>Visual Inspection</td>\n",
       "      <td>26.87</td>\n",
       "    </tr>\n",
       "    <tr>\n",
       "      <th>2</th>\n",
       "      <td>3</td>\n",
       "      <td>84</td>\n",
       "      <td>Structural</td>\n",
       "      <td>2/15/2024</td>\n",
       "      <td>Internal</td>\n",
       "      <td>Minor</td>\n",
       "      <td>Automated Testing</td>\n",
       "      <td>835.81</td>\n",
       "    </tr>\n",
       "    <tr>\n",
       "      <th>3</th>\n",
       "      <td>4</td>\n",
       "      <td>10</td>\n",
       "      <td>Functional</td>\n",
       "      <td>3/28/2024</td>\n",
       "      <td>Internal</td>\n",
       "      <td>Critical</td>\n",
       "      <td>Automated Testing</td>\n",
       "      <td>444.47</td>\n",
       "    </tr>\n",
       "    <tr>\n",
       "      <th>4</th>\n",
       "      <td>5</td>\n",
       "      <td>14</td>\n",
       "      <td>Cosmetic</td>\n",
       "      <td>4/26/2024</td>\n",
       "      <td>Component</td>\n",
       "      <td>Minor</td>\n",
       "      <td>Manual Testing</td>\n",
       "      <td>823.64</td>\n",
       "    </tr>\n",
       "    <tr>\n",
       "      <th>...</th>\n",
       "      <td>...</td>\n",
       "      <td>...</td>\n",
       "      <td>...</td>\n",
       "      <td>...</td>\n",
       "      <td>...</td>\n",
       "      <td>...</td>\n",
       "      <td>...</td>\n",
       "      <td>...</td>\n",
       "    </tr>\n",
       "    <tr>\n",
       "      <th>995</th>\n",
       "      <td>996</td>\n",
       "      <td>25</td>\n",
       "      <td>Structural</td>\n",
       "      <td>3/1/2024</td>\n",
       "      <td>Component</td>\n",
       "      <td>Minor</td>\n",
       "      <td>Automated Testing</td>\n",
       "      <td>813.14</td>\n",
       "    </tr>\n",
       "    <tr>\n",
       "      <th>996</th>\n",
       "      <td>997</td>\n",
       "      <td>23</td>\n",
       "      <td>Functional</td>\n",
       "      <td>3/21/2024</td>\n",
       "      <td>Component</td>\n",
       "      <td>Moderate</td>\n",
       "      <td>Automated Testing</td>\n",
       "      <td>944.07</td>\n",
       "    </tr>\n",
       "    <tr>\n",
       "      <th>997</th>\n",
       "      <td>998</td>\n",
       "      <td>17</td>\n",
       "      <td>Structural</td>\n",
       "      <td>1/16/2024</td>\n",
       "      <td>Component</td>\n",
       "      <td>Minor</td>\n",
       "      <td>Automated Testing</td>\n",
       "      <td>401.12</td>\n",
       "    </tr>\n",
       "    <tr>\n",
       "      <th>998</th>\n",
       "      <td>999</td>\n",
       "      <td>96</td>\n",
       "      <td>Cosmetic</td>\n",
       "      <td>6/21/2024</td>\n",
       "      <td>Internal</td>\n",
       "      <td>Moderate</td>\n",
       "      <td>Manual Testing</td>\n",
       "      <td>775.63</td>\n",
       "    </tr>\n",
       "    <tr>\n",
       "      <th>999</th>\n",
       "      <td>1000</td>\n",
       "      <td>1</td>\n",
       "      <td>Cosmetic</td>\n",
       "      <td>3/23/2024</td>\n",
       "      <td>Component</td>\n",
       "      <td>Minor</td>\n",
       "      <td>Visual Inspection</td>\n",
       "      <td>963.40</td>\n",
       "    </tr>\n",
       "  </tbody>\n",
       "</table>\n",
       "<p>1000 rows × 8 columns</p>\n",
       "</div>"
      ],
      "text/plain": [
       "     defect_id  product_id defect_type defect_date defect_location  severity  \\\n",
       "0            1          15  Structural    6/6/2024       Component     Minor   \n",
       "1            2           6  Functional   4/26/2024       Component     Minor   \n",
       "2            3          84  Structural   2/15/2024        Internal     Minor   \n",
       "3            4          10  Functional   3/28/2024        Internal  Critical   \n",
       "4            5          14    Cosmetic   4/26/2024       Component     Minor   \n",
       "..         ...         ...         ...         ...             ...       ...   \n",
       "995        996          25  Structural    3/1/2024       Component     Minor   \n",
       "996        997          23  Functional   3/21/2024       Component  Moderate   \n",
       "997        998          17  Structural   1/16/2024       Component     Minor   \n",
       "998        999          96    Cosmetic   6/21/2024        Internal  Moderate   \n",
       "999       1000           1    Cosmetic   3/23/2024       Component     Minor   \n",
       "\n",
       "     inspection_method  repair_cost  \n",
       "0    Visual Inspection       245.47  \n",
       "1    Visual Inspection        26.87  \n",
       "2    Automated Testing       835.81  \n",
       "3    Automated Testing       444.47  \n",
       "4       Manual Testing       823.64  \n",
       "..                 ...          ...  \n",
       "995  Automated Testing       813.14  \n",
       "996  Automated Testing       944.07  \n",
       "997  Automated Testing       401.12  \n",
       "998     Manual Testing       775.63  \n",
       "999  Visual Inspection       963.40  \n",
       "\n",
       "[1000 rows x 8 columns]"
      ]
     },
     "execution_count": 530,
     "metadata": {},
     "output_type": "execute_result"
    }
   ],
   "source": [
    "# load dataset\n",
    "df = pd.read_csv(r\"raw\\defects-data.csv\",\n",
    "                 delimiter=',')\n",
    "df"
   ]
  },
  {
   "cell_type": "code",
   "execution_count": 531,
   "id": "0d861cbe",
   "metadata": {},
   "outputs": [
    {
     "name": "stdout",
     "output_type": "stream",
     "text": [
      "<class 'pandas.core.frame.DataFrame'>\n",
      "RangeIndex: 1000 entries, 0 to 999\n",
      "Data columns (total 8 columns):\n",
      " #   Column             Non-Null Count  Dtype  \n",
      "---  ------             --------------  -----  \n",
      " 0   defect_id          1000 non-null   int64  \n",
      " 1   product_id         1000 non-null   int64  \n",
      " 2   defect_type        1000 non-null   object \n",
      " 3   defect_date        1000 non-null   object \n",
      " 4   defect_location    1000 non-null   object \n",
      " 5   severity           1000 non-null   object \n",
      " 6   inspection_method  1000 non-null   object \n",
      " 7   repair_cost        1000 non-null   float64\n",
      "dtypes: float64(1), int64(2), object(5)\n",
      "memory usage: 62.6+ KB\n"
     ]
    }
   ],
   "source": [
    "# summary of dataframe\n",
    "df.info()"
   ]
  },
  {
   "cell_type": "code",
   "execution_count": 532,
   "id": "5eee8e0e",
   "metadata": {},
   "outputs": [
    {
     "data": {
      "application/vnd.microsoft.datawrangler.viewer.v0+json": {
       "columns": [
        {
         "name": "index",
         "rawType": "object",
         "type": "string"
        },
        {
         "name": "defect_id",
         "rawType": "float64",
         "type": "float"
        },
        {
         "name": "product_id",
         "rawType": "float64",
         "type": "float"
        },
        {
         "name": "repair_cost",
         "rawType": "float64",
         "type": "float"
        }
       ],
       "conversionMethod": "pd.DataFrame",
       "ref": "fedbbba3-6183-49d8-90be-b1c7a4ae3a96",
       "rows": [
        [
         "count",
         "1000.0",
         "1000.0",
         "1000.0"
        ],
        [
         "mean",
         "500.5",
         "50.837",
         "507.62715000000003"
        ],
        [
         "std",
         "288.8194360957494",
         "29.480935476279523",
         "289.6236145535867"
        ],
        [
         "min",
         "1.0",
         "1.0",
         "10.22"
        ],
        [
         "25%",
         "250.75",
         "26.0",
         "270.90250000000003"
        ],
        [
         "50%",
         "500.5",
         "51.0",
         "506.43"
        ],
        [
         "75%",
         "750.25",
         "77.0",
         "759.0649999999999"
        ],
        [
         "max",
         "1000.0",
         "100.0",
         "999.64"
        ]
       ],
       "shape": {
        "columns": 3,
        "rows": 8
       }
      },
      "text/html": [
       "<div>\n",
       "<style scoped>\n",
       "    .dataframe tbody tr th:only-of-type {\n",
       "        vertical-align: middle;\n",
       "    }\n",
       "\n",
       "    .dataframe tbody tr th {\n",
       "        vertical-align: top;\n",
       "    }\n",
       "\n",
       "    .dataframe thead th {\n",
       "        text-align: right;\n",
       "    }\n",
       "</style>\n",
       "<table border=\"1\" class=\"dataframe\">\n",
       "  <thead>\n",
       "    <tr style=\"text-align: right;\">\n",
       "      <th></th>\n",
       "      <th>defect_id</th>\n",
       "      <th>product_id</th>\n",
       "      <th>repair_cost</th>\n",
       "    </tr>\n",
       "  </thead>\n",
       "  <tbody>\n",
       "    <tr>\n",
       "      <th>count</th>\n",
       "      <td>1000.000000</td>\n",
       "      <td>1000.000000</td>\n",
       "      <td>1000.000000</td>\n",
       "    </tr>\n",
       "    <tr>\n",
       "      <th>mean</th>\n",
       "      <td>500.500000</td>\n",
       "      <td>50.837000</td>\n",
       "      <td>507.627150</td>\n",
       "    </tr>\n",
       "    <tr>\n",
       "      <th>std</th>\n",
       "      <td>288.819436</td>\n",
       "      <td>29.480935</td>\n",
       "      <td>289.623615</td>\n",
       "    </tr>\n",
       "    <tr>\n",
       "      <th>min</th>\n",
       "      <td>1.000000</td>\n",
       "      <td>1.000000</td>\n",
       "      <td>10.220000</td>\n",
       "    </tr>\n",
       "    <tr>\n",
       "      <th>25%</th>\n",
       "      <td>250.750000</td>\n",
       "      <td>26.000000</td>\n",
       "      <td>270.902500</td>\n",
       "    </tr>\n",
       "    <tr>\n",
       "      <th>50%</th>\n",
       "      <td>500.500000</td>\n",
       "      <td>51.000000</td>\n",
       "      <td>506.430000</td>\n",
       "    </tr>\n",
       "    <tr>\n",
       "      <th>75%</th>\n",
       "      <td>750.250000</td>\n",
       "      <td>77.000000</td>\n",
       "      <td>759.065000</td>\n",
       "    </tr>\n",
       "    <tr>\n",
       "      <th>max</th>\n",
       "      <td>1000.000000</td>\n",
       "      <td>100.000000</td>\n",
       "      <td>999.640000</td>\n",
       "    </tr>\n",
       "  </tbody>\n",
       "</table>\n",
       "</div>"
      ],
      "text/plain": [
       "         defect_id   product_id  repair_cost\n",
       "count  1000.000000  1000.000000  1000.000000\n",
       "mean    500.500000    50.837000   507.627150\n",
       "std     288.819436    29.480935   289.623615\n",
       "min       1.000000     1.000000    10.220000\n",
       "25%     250.750000    26.000000   270.902500\n",
       "50%     500.500000    51.000000   506.430000\n",
       "75%     750.250000    77.000000   759.065000\n",
       "max    1000.000000   100.000000   999.640000"
      ]
     },
     "execution_count": 532,
     "metadata": {},
     "output_type": "execute_result"
    }
   ],
   "source": [
    "# summary of statistics\n",
    "df.describe()"
   ]
  },
  {
   "cell_type": "markdown",
   "id": "5d9da500",
   "metadata": {},
   "source": [
    "## Categorical Data"
   ]
  },
  {
   "cell_type": "code",
   "execution_count": 533,
   "id": "e9090f8b",
   "metadata": {},
   "outputs": [
    {
     "data": {
      "text/plain": [
       "array(['Structural', 'Functional', 'Cosmetic'], dtype=object)"
      ]
     },
     "execution_count": 533,
     "metadata": {},
     "output_type": "execute_result"
    }
   ],
   "source": [
    "# type or category of the defect\n",
    "df['defect_type'].unique()"
   ]
  },
  {
   "cell_type": "code",
   "execution_count": 534,
   "id": "d816e7ba",
   "metadata": {},
   "outputs": [
    {
     "data": {
      "text/plain": [
       "array(['Component', 'Internal', 'Surface'], dtype=object)"
      ]
     },
     "execution_count": 534,
     "metadata": {},
     "output_type": "execute_result"
    }
   ],
   "source": [
    "# location where the defect was found\n",
    "df['defect_location'].unique()"
   ]
  },
  {
   "cell_type": "code",
   "execution_count": 535,
   "id": "da47e03b",
   "metadata": {},
   "outputs": [
    {
     "data": {
      "text/plain": [
       "array(['Minor', 'Critical', 'Moderate'], dtype=object)"
      ]
     },
     "execution_count": 535,
     "metadata": {},
     "output_type": "execute_result"
    }
   ],
   "source": [
    "# severity level of the defect\n",
    "df['severity'].unique()"
   ]
  },
  {
   "cell_type": "code",
   "execution_count": 536,
   "id": "cff11f4f",
   "metadata": {},
   "outputs": [
    {
     "data": {
      "text/plain": [
       "array(['Visual Inspection', 'Automated Testing', 'Manual Testing'],\n",
       "      dtype=object)"
      ]
     },
     "execution_count": 536,
     "metadata": {},
     "output_type": "execute_result"
    }
   ],
   "source": [
    "# method used to detect the defect\n",
    "df['inspection_method'].unique()"
   ]
  },
  {
   "cell_type": "code",
   "execution_count": 537,
   "id": "cf1ba176",
   "metadata": {},
   "outputs": [
    {
     "data": {
      "text/plain": [
       "np.int64(0)"
      ]
     },
     "execution_count": 537,
     "metadata": {},
     "output_type": "execute_result"
    }
   ],
   "source": [
    "# checking for NAN values\n",
    "df['repair_cost'].isna().sum()"
   ]
  },
  {
   "cell_type": "markdown",
   "id": "3034e626",
   "metadata": {},
   "source": [
    "## Count of Defects"
   ]
  },
  {
   "cell_type": "code",
   "execution_count": 538,
   "id": "7124bce9",
   "metadata": {},
   "outputs": [],
   "source": [
    "plt.rcParams['font.family'] = 'Courier New' # runtime config"
   ]
  },
  {
   "cell_type": "markdown",
   "id": "62939bc8",
   "metadata": {},
   "source": [
    "### Defect Type"
   ]
  },
  {
   "cell_type": "code",
   "execution_count": 539,
   "id": "aa5b60a0",
   "metadata": {},
   "outputs": [
    {
     "data": {
      "application/vnd.microsoft.datawrangler.viewer.v0+json": {
       "columns": [
        {
         "name": "index",
         "rawType": "int64",
         "type": "integer"
        },
        {
         "name": "defect_type",
         "rawType": "object",
         "type": "string"
        },
        {
         "name": "count",
         "rawType": "int64",
         "type": "integer"
        }
       ],
       "conversionMethod": "pd.DataFrame",
       "ref": "16358a33-2001-4b1f-915c-d9d9717ae64e",
       "rows": [
        [
         "0",
         "Structural",
         "352"
        ],
        [
         "1",
         "Functional",
         "339"
        ],
        [
         "2",
         "Cosmetic",
         "309"
        ]
       ],
       "shape": {
        "columns": 2,
        "rows": 3
       }
      },
      "text/html": [
       "<div>\n",
       "<style scoped>\n",
       "    .dataframe tbody tr th:only-of-type {\n",
       "        vertical-align: middle;\n",
       "    }\n",
       "\n",
       "    .dataframe tbody tr th {\n",
       "        vertical-align: top;\n",
       "    }\n",
       "\n",
       "    .dataframe thead th {\n",
       "        text-align: right;\n",
       "    }\n",
       "</style>\n",
       "<table border=\"1\" class=\"dataframe\">\n",
       "  <thead>\n",
       "    <tr style=\"text-align: right;\">\n",
       "      <th></th>\n",
       "      <th>defect_type</th>\n",
       "      <th>count</th>\n",
       "    </tr>\n",
       "  </thead>\n",
       "  <tbody>\n",
       "    <tr>\n",
       "      <th>0</th>\n",
       "      <td>Structural</td>\n",
       "      <td>352</td>\n",
       "    </tr>\n",
       "    <tr>\n",
       "      <th>1</th>\n",
       "      <td>Functional</td>\n",
       "      <td>339</td>\n",
       "    </tr>\n",
       "    <tr>\n",
       "      <th>2</th>\n",
       "      <td>Cosmetic</td>\n",
       "      <td>309</td>\n",
       "    </tr>\n",
       "  </tbody>\n",
       "</table>\n",
       "</div>"
      ],
      "text/plain": [
       "  defect_type  count\n",
       "0  Structural    352\n",
       "1  Functional    339\n",
       "2    Cosmetic    309"
      ]
     },
     "execution_count": 539,
     "metadata": {},
     "output_type": "execute_result"
    }
   ],
   "source": [
    "# dataframe of defect type counts\n",
    "n_dtype = (df['defect_type'].value_counts().reset_index()\n",
    "           .sort_values(by='count',ascending=False))\n",
    "n_dtype"
   ]
  },
  {
   "cell_type": "code",
   "execution_count": 540,
   "id": "1a7c6c07",
   "metadata": {},
   "outputs": [
    {
     "data": {
      "image/png": "[encoded data removed]",
      "text/plain": [
       "<Figure size 500x300 with 1 Axes>"
      ]
     },
     "metadata": {},
     "output_type": "display_data"
    }
   ],
   "source": [
    "# bar graph\n",
    "plt.figure(figsize=(5,3))\n",
    "bars = plt.bar(n_dtype['defect_type'],n_dtype['count'],\n",
    "        color='#126782')\n",
    "plt.title('Type of Defects')\n",
    "plt.ylabel('N Counts')\n",
    "\n",
    "# bar labels\n",
    "plt.bar_label(bars, labels=n_dtype['count'],\n",
    "              padding=3)\n",
    "plt.margins(y=0.1) # 10% margin\n",
    "plt.show()"
   ]
  },
  {
   "cell_type": "markdown",
   "id": "01d0253f",
   "metadata": {},
   "source": [
    "### Defect Location"
   ]
  },
  {
   "cell_type": "code",
   "execution_count": 541,
   "id": "57b142fa",
   "metadata": {},
   "outputs": [
    {
     "data": {
      "application/vnd.microsoft.datawrangler.viewer.v0+json": {
       "columns": [
        {
         "name": "index",
         "rawType": "int64",
         "type": "integer"
        },
        {
         "name": "defect_location",
         "rawType": "object",
         "type": "string"
        },
        {
         "name": "count",
         "rawType": "int64",
         "type": "integer"
        }
       ],
       "conversionMethod": "pd.DataFrame",
       "ref": "b443bfc0-6214-4a75-9476-8377f285255e",
       "rows": [
        [
         "0",
         "Surface",
         "353"
        ],
        [
         "1",
         "Component",
         "326"
        ],
        [
         "2",
         "Internal",
         "321"
        ]
       ],
       "shape": {
        "columns": 2,
        "rows": 3
       }
      },
      "text/html": [
       "<div>\n",
       "<style scoped>\n",
       "    .dataframe tbody tr th:only-of-type {\n",
       "        vertical-align: middle;\n",
       "    }\n",
       "\n",
       "    .dataframe tbody tr th {\n",
       "        vertical-align: top;\n",
       "    }\n",
       "\n",
       "    .dataframe thead th {\n",
       "        text-align: right;\n",
       "    }\n",
       "</style>\n",
       "<table border=\"1\" class=\"dataframe\">\n",
       "  <thead>\n",
       "    <tr style=\"text-align: right;\">\n",
       "      <th></th>\n",
       "      <th>defect_location</th>\n",
       "      <th>count</th>\n",
       "    </tr>\n",
       "  </thead>\n",
       "  <tbody>\n",
       "    <tr>\n",
       "      <th>0</th>\n",
       "      <td>Surface</td>\n",
       "      <td>353</td>\n",
       "    </tr>\n",
       "    <tr>\n",
       "      <th>1</th>\n",
       "      <td>Component</td>\n",
       "      <td>326</td>\n",
       "    </tr>\n",
       "    <tr>\n",
       "      <th>2</th>\n",
       "      <td>Internal</td>\n",
       "      <td>321</td>\n",
       "    </tr>\n",
       "  </tbody>\n",
       "</table>\n",
       "</div>"
      ],
      "text/plain": [
       "  defect_location  count\n",
       "0         Surface    353\n",
       "1       Component    326\n",
       "2        Internal    321"
      ]
     },
     "execution_count": 541,
     "metadata": {},
     "output_type": "execute_result"
    }
   ],
   "source": [
    "# dataframe of defect location counts\n",
    "n_dloc = (df['defect_location'].value_counts().reset_index()\n",
    "          .sort_values(by='count',ascending=False))\n",
    "n_dloc"
   ]
  },
  {
   "cell_type": "code",
   "execution_count": 542,
   "id": "f98c5ea6",
   "metadata": {},
   "outputs": [
    {
     "data": {
      "image/png": "[encoded data removed]",
      "text/plain": [
       "<Figure size 500x300 with 1 Axes>"
      ]
     },
     "metadata": {},
     "output_type": "display_data"
    }
   ],
   "source": [
    "# bar graph\n",
    "plt.figure(figsize=(5,3))\n",
    "bars = plt.bar(n_dloc['defect_location'],n_dloc['count'],\n",
    "               color='#126782')\n",
    "plt.title('Location of Defects')\n",
    "plt.ylabel('N Counts')\n",
    "\n",
    "# bar labels\n",
    "plt.bar_label(bars, labels=n_dloc['count'],\n",
    "              padding=3)\n",
    "plt.margins(y=0.1)\n",
    "plt.show()"
   ]
  },
  {
   "cell_type": "markdown",
   "id": "7fd5d7e8",
   "metadata": {},
   "source": [
    "### Severity"
   ]
  },
  {
   "cell_type": "code",
   "execution_count": 543,
   "id": "403dc21c",
   "metadata": {},
   "outputs": [
    {
     "data": {
      "application/vnd.microsoft.datawrangler.viewer.v0+json": {
       "columns": [
        {
         "name": "index",
         "rawType": "int64",
         "type": "integer"
        },
        {
         "name": "severity",
         "rawType": "object",
         "type": "string"
        },
        {
         "name": "count",
         "rawType": "int64",
         "type": "integer"
        }
       ],
       "conversionMethod": "pd.DataFrame",
       "ref": "26283ad3-66c4-400e-a0bb-41f3ad50849e",
       "rows": [
        [
         "0",
         "Minor",
         "358"
        ],
        [
         "1",
         "Critical",
         "333"
        ],
        [
         "2",
         "Moderate",
         "309"
        ]
       ],
       "shape": {
        "columns": 2,
        "rows": 3
       }
      },
      "text/html": [
       "<div>\n",
       "<style scoped>\n",
       "    .dataframe tbody tr th:only-of-type {\n",
       "        vertical-align: middle;\n",
       "    }\n",
       "\n",
       "    .dataframe tbody tr th {\n",
       "        vertical-align: top;\n",
       "    }\n",
       "\n",
       "    .dataframe thead th {\n",
       "        text-align: right;\n",
       "    }\n",
       "</style>\n",
       "<table border=\"1\" class=\"dataframe\">\n",
       "  <thead>\n",
       "    <tr style=\"text-align: right;\">\n",
       "      <th></th>\n",
       "      <th>severity</th>\n",
       "      <th>count</th>\n",
       "    </tr>\n",
       "  </thead>\n",
       "  <tbody>\n",
       "    <tr>\n",
       "      <th>0</th>\n",
       "      <td>Minor</td>\n",
       "      <td>358</td>\n",
       "    </tr>\n",
       "    <tr>\n",
       "      <th>1</th>\n",
       "      <td>Critical</td>\n",
       "      <td>333</td>\n",
       "    </tr>\n",
       "    <tr>\n",
       "      <th>2</th>\n",
       "      <td>Moderate</td>\n",
       "      <td>309</td>\n",
       "    </tr>\n",
       "  </tbody>\n",
       "</table>\n",
       "</div>"
      ],
      "text/plain": [
       "   severity  count\n",
       "0     Minor    358\n",
       "1  Critical    333\n",
       "2  Moderate    309"
      ]
     },
     "execution_count": 543,
     "metadata": {},
     "output_type": "execute_result"
    }
   ],
   "source": [
    "# dataframe of defect severity\n",
    "n_severity = (df['severity'].value_counts().reset_index()\n",
    "              .sort_values(by='count',ascending=False))\n",
    "n_severity"
   ]
  },
  {
   "cell_type": "code",
   "execution_count": 544,
   "id": "ecc65a13",
   "metadata": {},
   "outputs": [
    {
     "data": {
      "image/png": "[encoded data removed]",
      "text/plain": [
       "<Figure size 500x300 with 1 Axes>"
      ]
     },
     "metadata": {},
     "output_type": "display_data"
    }
   ],
   "source": [
    "# bar graph\n",
    "plt.figure(figsize=(5,3))\n",
    "bars = plt.bar(n_severity['severity'],n_severity['count'],\n",
    "        color='#126782')\n",
    "plt.title('Severity of Defects')\n",
    "plt.ylabel('N Counts')\n",
    "\n",
    "# bar labels\n",
    "plt.bar_label(bars,labels=n_severity['count']\n",
    "              ,padding=3)\n",
    "plt.margins(y=0.1)\n",
    "plt.show()"
   ]
  },
  {
   "cell_type": "markdown",
   "id": "9c18991e",
   "metadata": {},
   "source": [
    "### Inspection Method"
   ]
  },
  {
   "cell_type": "code",
   "execution_count": 545,
   "id": "13f44e31",
   "metadata": {},
   "outputs": [
    {
     "data": {
      "application/vnd.microsoft.datawrangler.viewer.v0+json": {
       "columns": [
        {
         "name": "index",
         "rawType": "int64",
         "type": "integer"
        },
        {
         "name": "inspection_method",
         "rawType": "object",
         "type": "string"
        },
        {
         "name": "count",
         "rawType": "int64",
         "type": "integer"
        }
       ],
       "conversionMethod": "pd.DataFrame",
       "ref": "cc121beb-7827-45f7-b292-c42b53cdaf78",
       "rows": [
        [
         "0",
         "Manual Testing",
         "352"
        ],
        [
         "1",
         "Visual Inspection",
         "351"
        ],
        [
         "2",
         "Automated Testing",
         "297"
        ]
       ],
       "shape": {
        "columns": 2,
        "rows": 3
       }
      },
      "text/html": [
       "<div>\n",
       "<style scoped>\n",
       "    .dataframe tbody tr th:only-of-type {\n",
       "        vertical-align: middle;\n",
       "    }\n",
       "\n",
       "    .dataframe tbody tr th {\n",
       "        vertical-align: top;\n",
       "    }\n",
       "\n",
       "    .dataframe thead th {\n",
       "        text-align: right;\n",
       "    }\n",
       "</style>\n",
       "<table border=\"1\" class=\"dataframe\">\n",
       "  <thead>\n",
       "    <tr style=\"text-align: right;\">\n",
       "      <th></th>\n",
       "      <th>inspection_method</th>\n",
       "      <th>count</th>\n",
       "    </tr>\n",
       "  </thead>\n",
       "  <tbody>\n",
       "    <tr>\n",
       "      <th>0</th>\n",
       "      <td>Manual Testing</td>\n",
       "      <td>352</td>\n",
       "    </tr>\n",
       "    <tr>\n",
       "      <th>1</th>\n",
       "      <td>Visual Inspection</td>\n",
       "      <td>351</td>\n",
       "    </tr>\n",
       "    <tr>\n",
       "      <th>2</th>\n",
       "      <td>Automated Testing</td>\n",
       "      <td>297</td>\n",
       "    </tr>\n",
       "  </tbody>\n",
       "</table>\n",
       "</div>"
      ],
      "text/plain": [
       "   inspection_method  count\n",
       "0     Manual Testing    352\n",
       "1  Visual Inspection    351\n",
       "2  Automated Testing    297"
      ]
     },
     "execution_count": 545,
     "metadata": {},
     "output_type": "execute_result"
    }
   ],
   "source": [
    "# dataframe for inspection methods\n",
    "n_inspection = (df['inspection_method'].value_counts().reset_index()\n",
    "                .sort_values(by='count',ascending=False))\n",
    "n_inspection"
   ]
  },
  {
   "cell_type": "code",
   "execution_count": 546,
   "id": "5867ed42",
   "metadata": {},
   "outputs": [
    {
     "data": {
      "application/vnd.microsoft.datawrangler.viewer.v0+json": {
       "columns": [
        {
         "name": "index",
         "rawType": "int64",
         "type": "integer"
        },
        {
         "name": "inspection_method",
         "rawType": "object",
         "type": "string"
        },
        {
         "name": "count",
         "rawType": "int64",
         "type": "integer"
        }
       ],
       "conversionMethod": "pd.DataFrame",
       "ref": "67c9ffa6-8575-44c7-a319-70c3b070ba54",
       "rows": [
        [
         "0",
         "Manual",
         "352"
        ],
        [
         "1",
         "Visual",
         "351"
        ],
        [
         "2",
         "Automated",
         "297"
        ]
       ],
       "shape": {
        "columns": 2,
        "rows": 3
       }
      },
      "text/html": [
       "<div>\n",
       "<style scoped>\n",
       "    .dataframe tbody tr th:only-of-type {\n",
       "        vertical-align: middle;\n",
       "    }\n",
       "\n",
       "    .dataframe tbody tr th {\n",
       "        vertical-align: top;\n",
       "    }\n",
       "\n",
       "    .dataframe thead th {\n",
       "        text-align: right;\n",
       "    }\n",
       "</style>\n",
       "<table border=\"1\" class=\"dataframe\">\n",
       "  <thead>\n",
       "    <tr style=\"text-align: right;\">\n",
       "      <th></th>\n",
       "      <th>inspection_method</th>\n",
       "      <th>count</th>\n",
       "    </tr>\n",
       "  </thead>\n",
       "  <tbody>\n",
       "    <tr>\n",
       "      <th>0</th>\n",
       "      <td>Manual</td>\n",
       "      <td>352</td>\n",
       "    </tr>\n",
       "    <tr>\n",
       "      <th>1</th>\n",
       "      <td>Visual</td>\n",
       "      <td>351</td>\n",
       "    </tr>\n",
       "    <tr>\n",
       "      <th>2</th>\n",
       "      <td>Automated</td>\n",
       "      <td>297</td>\n",
       "    </tr>\n",
       "  </tbody>\n",
       "</table>\n",
       "</div>"
      ],
      "text/plain": [
       "  inspection_method  count\n",
       "0            Manual    352\n",
       "1            Visual    351\n",
       "2         Automated    297"
      ]
     },
     "execution_count": 546,
     "metadata": {},
     "output_type": "execute_result"
    }
   ],
   "source": [
    "# rename categories\n",
    "n_inspection['inspection_method'] = n_inspection['inspection_method'].replace({\n",
    "    'Manual Testing':'Manual',\n",
    "    'Visual Inspection':'Visual',\n",
    "    'Automated Testing':'Automated'\n",
    "})\n",
    "n_inspection"
   ]
  },
  {
   "cell_type": "code",
   "execution_count": 547,
   "id": "e021a2ba",
   "metadata": {},
   "outputs": [
    {
     "data": {
      "image/png": "[encoded data removed]",
      "text/plain": [
       "<Figure size 500x300 with 1 Axes>"
      ]
     },
     "metadata": {},
     "output_type": "display_data"
    }
   ],
   "source": [
    "# bar graph\n",
    "plt.figure(figsize=(5,3))\n",
    "bars = plt.bar(n_inspection['inspection_method'],n_inspection['count'],\n",
    "               color='#126782')\n",
    "plt.title('Inspection Methods')\n",
    "plt.ylabel('N Counts')\n",
    "\n",
    "# bar labels\n",
    "plt.bar_label(bars, labels=n_inspection['count'],\n",
    "              padding=3)\n",
    "plt.margins(y=0.1)\n",
    "plt.show()"
   ]
  },
  {
   "cell_type": "markdown",
   "id": "fb80e74d",
   "metadata": {},
   "source": [
    "## Repair Cost"
   ]
  },
  {
   "cell_type": "markdown",
   "id": "135d8a95",
   "metadata": {},
   "source": [
    "### Defect Type"
   ]
  },
  {
   "cell_type": "code",
   "execution_count": 548,
   "id": "5d13f18a",
   "metadata": {},
   "outputs": [
    {
     "data": {
      "application/vnd.microsoft.datawrangler.viewer.v0+json": {
       "columns": [
        {
         "name": "index",
         "rawType": "int64",
         "type": "integer"
        },
        {
         "name": "defect_type",
         "rawType": "object",
         "type": "string"
        },
        {
         "name": "repair_cost",
         "rawType": "float64",
         "type": "float"
        }
       ],
       "conversionMethod": "pd.DataFrame",
       "ref": "ac92f074-52cd-4e41-b6ea-414a5be0a44e",
       "rows": [
        [
         "2",
         "Structural",
         "176923.85"
        ],
        [
         "1",
         "Functional",
         "171905.58"
        ],
        [
         "0",
         "Cosmetic",
         "158797.72"
        ]
       ],
       "shape": {
        "columns": 2,
        "rows": 3
       }
      },
      "text/html": [
       "<div>\n",
       "<style scoped>\n",
       "    .dataframe tbody tr th:only-of-type {\n",
       "        vertical-align: middle;\n",
       "    }\n",
       "\n",
       "    .dataframe tbody tr th {\n",
       "        vertical-align: top;\n",
       "    }\n",
       "\n",
       "    .dataframe thead th {\n",
       "        text-align: right;\n",
       "    }\n",
       "</style>\n",
       "<table border=\"1\" class=\"dataframe\">\n",
       "  <thead>\n",
       "    <tr style=\"text-align: right;\">\n",
       "      <th></th>\n",
       "      <th>defect_type</th>\n",
       "      <th>repair_cost</th>\n",
       "    </tr>\n",
       "  </thead>\n",
       "  <tbody>\n",
       "    <tr>\n",
       "      <th>2</th>\n",
       "      <td>Structural</td>\n",
       "      <td>176923.85</td>\n",
       "    </tr>\n",
       "    <tr>\n",
       "      <th>1</th>\n",
       "      <td>Functional</td>\n",
       "      <td>171905.58</td>\n",
       "    </tr>\n",
       "    <tr>\n",
       "      <th>0</th>\n",
       "      <td>Cosmetic</td>\n",
       "      <td>158797.72</td>\n",
       "    </tr>\n",
       "  </tbody>\n",
       "</table>\n",
       "</div>"
      ],
      "text/plain": [
       "  defect_type  repair_cost\n",
       "2  Structural    176923.85\n",
       "1  Functional    171905.58\n",
       "0    Cosmetic    158797.72"
      ]
     },
     "execution_count": 548,
     "metadata": {},
     "output_type": "execute_result"
    }
   ],
   "source": [
    "# total repair cost by defect type\n",
    "cost_dtype = (df.groupby('defect_type')['repair_cost'].sum().reset_index()\n",
    "              .sort_values(by='repair_cost',ascending=False))\n",
    "cost_dtype"
   ]
  },
  {
   "cell_type": "code",
   "execution_count": 549,
   "id": "30c42aa7",
   "metadata": {},
   "outputs": [
    {
     "data": {
      "image/png": "[encoded data removed]",
      "text/plain": [
       "<Figure size 500x300 with 1 Axes>"
      ]
     },
     "metadata": {},
     "output_type": "display_data"
    }
   ],
   "source": [
    "# bar graph\n",
    "plt.figure(figsize=(5,3))\n",
    "bars = plt.bar(cost_dtype['defect_type'],cost_dtype['repair_cost']/1000,\n",
    "        color='#126782')\n",
    "plt.title('Total Repair Cost by Defect Type')\n",
    "plt.ylabel('Cost (in thousand $)')\n",
    "\n",
    "#bar label\n",
    "plt.bar_label(bars, (cost_dtype['repair_cost']/1000).round().astype(int),\n",
    "              padding=3)\n",
    "plt.margins(y=0.1)\n",
    "plt.show()"
   ]
  },
  {
   "cell_type": "markdown",
   "id": "e1b14d64",
   "metadata": {},
   "source": [
    "### Defect Location"
   ]
  },
  {
   "cell_type": "code",
   "execution_count": 550,
   "id": "215ace68",
   "metadata": {},
   "outputs": [
    {
     "data": {
      "application/vnd.microsoft.datawrangler.viewer.v0+json": {
       "columns": [
        {
         "name": "index",
         "rawType": "int64",
         "type": "integer"
        },
        {
         "name": "defect_location",
         "rawType": "object",
         "type": "string"
        },
        {
         "name": "repair_cost",
         "rawType": "float64",
         "type": "float"
        }
       ],
       "conversionMethod": "pd.DataFrame",
       "ref": "9a27dd87-4ba8-48a0-82fc-06c1bc711b76",
       "rows": [
        [
         "0",
         "Component",
         "173697.56"
        ],
        [
         "2",
         "Surface",
         "172002.26"
        ],
        [
         "1",
         "Internal",
         "161927.33"
        ]
       ],
       "shape": {
        "columns": 2,
        "rows": 3
       }
      },
      "text/html": [
       "<div>\n",
       "<style scoped>\n",
       "    .dataframe tbody tr th:only-of-type {\n",
       "        vertical-align: middle;\n",
       "    }\n",
       "\n",
       "    .dataframe tbody tr th {\n",
       "        vertical-align: top;\n",
       "    }\n",
       "\n",
       "    .dataframe thead th {\n",
       "        text-align: right;\n",
       "    }\n",
       "</style>\n",
       "<table border=\"1\" class=\"dataframe\">\n",
       "  <thead>\n",
       "    <tr style=\"text-align: right;\">\n",
       "      <th></th>\n",
       "      <th>defect_location</th>\n",
       "      <th>repair_cost</th>\n",
       "    </tr>\n",
       "  </thead>\n",
       "  <tbody>\n",
       "    <tr>\n",
       "      <th>0</th>\n",
       "      <td>Component</td>\n",
       "      <td>173697.56</td>\n",
       "    </tr>\n",
       "    <tr>\n",
       "      <th>2</th>\n",
       "      <td>Surface</td>\n",
       "      <td>172002.26</td>\n",
       "    </tr>\n",
       "    <tr>\n",
       "      <th>1</th>\n",
       "      <td>Internal</td>\n",
       "      <td>161927.33</td>\n",
       "    </tr>\n",
       "  </tbody>\n",
       "</table>\n",
       "</div>"
      ],
      "text/plain": [
       "  defect_location  repair_cost\n",
       "0       Component    173697.56\n",
       "2         Surface    172002.26\n",
       "1        Internal    161927.33"
      ]
     },
     "execution_count": 550,
     "metadata": {},
     "output_type": "execute_result"
    }
   ],
   "source": [
    "# total repair cost by defect location\n",
    "cost_loc = (df.groupby(by='defect_location')['repair_cost'].sum().reset_index()\n",
    "            .sort_values(by='repair_cost',ascending=False))\n",
    "cost_loc"
   ]
  },
  {
   "cell_type": "code",
   "execution_count": 551,
   "id": "2e8c30de",
   "metadata": {},
   "outputs": [
    {
     "data": {
      "image/png": "[encoded data removed]",
      "text/plain": [
       "<Figure size 500x300 with 1 Axes>"
      ]
     },
     "metadata": {},
     "output_type": "display_data"
    }
   ],
   "source": [
    "# bar graph\n",
    "plt.figure(figsize=(5,3))\n",
    "bars = plt.bar(cost_loc['defect_location'],cost_loc['repair_cost']/1000,\n",
    "        color='#126782')\n",
    "plt.title('Total Repair Cost by Defect Location')\n",
    "plt.ylabel('Cost (in thousand $)')\n",
    "\n",
    "# bar label\n",
    "plt.bar_label(bars, (cost_loc['repair_cost']/1000).round(0).astype(int),\n",
    "              padding=3)\n",
    "plt.margins(y=0.1)\n",
    "\n",
    "plt.show()"
   ]
  },
  {
   "cell_type": "markdown",
   "id": "c055a006",
   "metadata": {},
   "source": [
    "### Severity"
   ]
  },
  {
   "cell_type": "code",
   "execution_count": 552,
   "id": "2d61e102",
   "metadata": {},
   "outputs": [
    {
     "data": {
      "application/vnd.microsoft.datawrangler.viewer.v0+json": {
       "columns": [
        {
         "name": "index",
         "rawType": "int64",
         "type": "integer"
        },
        {
         "name": "severity",
         "rawType": "object",
         "type": "string"
        },
        {
         "name": "repair_cost",
         "rawType": "float64",
         "type": "float"
        }
       ],
       "conversionMethod": "pd.DataFrame",
       "ref": "94adafc8-6017-44e6-9ae8-d4d2214700d4",
       "rows": [
        [
         "1",
         "Minor",
         "184166.97"
        ],
        [
         "0",
         "Critical",
         "168455.25"
        ],
        [
         "2",
         "Moderate",
         "155004.93"
        ]
       ],
       "shape": {
        "columns": 2,
        "rows": 3
       }
      },
      "text/html": [
       "<div>\n",
       "<style scoped>\n",
       "    .dataframe tbody tr th:only-of-type {\n",
       "        vertical-align: middle;\n",
       "    }\n",
       "\n",
       "    .dataframe tbody tr th {\n",
       "        vertical-align: top;\n",
       "    }\n",
       "\n",
       "    .dataframe thead th {\n",
       "        text-align: right;\n",
       "    }\n",
       "</style>\n",
       "<table border=\"1\" class=\"dataframe\">\n",
       "  <thead>\n",
       "    <tr style=\"text-align: right;\">\n",
       "      <th></th>\n",
       "      <th>severity</th>\n",
       "      <th>repair_cost</th>\n",
       "    </tr>\n",
       "  </thead>\n",
       "  <tbody>\n",
       "    <tr>\n",
       "      <th>1</th>\n",
       "      <td>Minor</td>\n",
       "      <td>184166.97</td>\n",
       "    </tr>\n",
       "    <tr>\n",
       "      <th>0</th>\n",
       "      <td>Critical</td>\n",
       "      <td>168455.25</td>\n",
       "    </tr>\n",
       "    <tr>\n",
       "      <th>2</th>\n",
       "      <td>Moderate</td>\n",
       "      <td>155004.93</td>\n",
       "    </tr>\n",
       "  </tbody>\n",
       "</table>\n",
       "</div>"
      ],
      "text/plain": [
       "   severity  repair_cost\n",
       "1     Minor    184166.97\n",
       "0  Critical    168455.25\n",
       "2  Moderate    155004.93"
      ]
     },
     "execution_count": 552,
     "metadata": {},
     "output_type": "execute_result"
    }
   ],
   "source": [
    "# total repair cost by severity\n",
    "cost_severity = (df.groupby(by='severity')['repair_cost'].sum().reset_index()\n",
    "                 .sort_values(by='repair_cost',ascending=False))\n",
    "cost_severity"
   ]
  },
  {
   "cell_type": "code",
   "execution_count": 553,
   "id": "8d73fb8d",
   "metadata": {},
   "outputs": [
    {
     "data": {
      "image/png": "[encoded data removed]",
      "text/plain": [
       "<Figure size 500x300 with 1 Axes>"
      ]
     },
     "metadata": {},
     "output_type": "display_data"
    }
   ],
   "source": [
    "# bar graph\n",
    "plt.figure(figsize=(5,3))\n",
    "bars = plt.bar(cost_severity['severity'],cost_severity['repair_cost']/1000,\n",
    "        color='#126782')\n",
    "plt.title('Total Repair Cost by Severity')\n",
    "plt.ylabel('Cost (in thousand $)')\n",
    "\n",
    "# bar label\n",
    "plt.bar_label(bars,(cost_severity['repair_cost']/1000).round(0).astype(int),\n",
    "              padding=3)\n",
    "plt.margins(y=0.1)\n",
    "plt.show()"
   ]
  },
  {
   "cell_type": "markdown",
   "id": "c4306088",
   "metadata": {},
   "source": [
    "### Inspection Method"
   ]
  },
  {
   "cell_type": "code",
   "execution_count": 554,
   "id": "15b88eb3",
   "metadata": {},
   "outputs": [
    {
     "data": {
      "application/vnd.microsoft.datawrangler.viewer.v0+json": {
       "columns": [
        {
         "name": "index",
         "rawType": "int64",
         "type": "integer"
        },
        {
         "name": "inspection_method",
         "rawType": "object",
         "type": "string"
        },
        {
         "name": "repair_cost",
         "rawType": "float64",
         "type": "float"
        }
       ],
       "conversionMethod": "pd.DataFrame",
       "ref": "54fdf105-e5a6-4656-9fa7-0baf5f05756d",
       "rows": [
        [
         "1",
         "Manual Testing",
         "185178.29"
        ],
        [
         "2",
         "Visual Inspection",
         "173412.98"
        ],
        [
         "0",
         "Automated Testing",
         "149035.88"
        ]
       ],
       "shape": {
        "columns": 2,
        "rows": 3
       }
      },
      "text/html": [
       "<div>\n",
       "<style scoped>\n",
       "    .dataframe tbody tr th:only-of-type {\n",
       "        vertical-align: middle;\n",
       "    }\n",
       "\n",
       "    .dataframe tbody tr th {\n",
       "        vertical-align: top;\n",
       "    }\n",
       "\n",
       "    .dataframe thead th {\n",
       "        text-align: right;\n",
       "    }\n",
       "</style>\n",
       "<table border=\"1\" class=\"dataframe\">\n",
       "  <thead>\n",
       "    <tr style=\"text-align: right;\">\n",
       "      <th></th>\n",
       "      <th>inspection_method</th>\n",
       "      <th>repair_cost</th>\n",
       "    </tr>\n",
       "  </thead>\n",
       "  <tbody>\n",
       "    <tr>\n",
       "      <th>1</th>\n",
       "      <td>Manual Testing</td>\n",
       "      <td>185178.29</td>\n",
       "    </tr>\n",
       "    <tr>\n",
       "      <th>2</th>\n",
       "      <td>Visual Inspection</td>\n",
       "      <td>173412.98</td>\n",
       "    </tr>\n",
       "    <tr>\n",
       "      <th>0</th>\n",
       "      <td>Automated Testing</td>\n",
       "      <td>149035.88</td>\n",
       "    </tr>\n",
       "  </tbody>\n",
       "</table>\n",
       "</div>"
      ],
      "text/plain": [
       "   inspection_method  repair_cost\n",
       "1     Manual Testing    185178.29\n",
       "2  Visual Inspection    173412.98\n",
       "0  Automated Testing    149035.88"
      ]
     },
     "execution_count": 554,
     "metadata": {},
     "output_type": "execute_result"
    }
   ],
   "source": [
    "cost_inspection = (df.groupby(by='inspection_method')['repair_cost'].sum().reset_index()\n",
    "                   .sort_values(by='repair_cost',ascending=False))\n",
    "cost_inspection"
   ]
  },
  {
   "cell_type": "code",
   "execution_count": 555,
   "id": "5543def7",
   "metadata": {},
   "outputs": [
    {
     "data": {
      "application/vnd.microsoft.datawrangler.viewer.v0+json": {
       "columns": [
        {
         "name": "index",
         "rawType": "int64",
         "type": "integer"
        },
        {
         "name": "inspection_method",
         "rawType": "object",
         "type": "string"
        },
        {
         "name": "repair_cost",
         "rawType": "float64",
         "type": "float"
        }
       ],
       "conversionMethod": "pd.DataFrame",
       "ref": "cb717156-257c-4007-b031-697df42adcff",
       "rows": [
        [
         "1",
         "Manual",
         "185178.29"
        ],
        [
         "2",
         "Visual",
         "173412.98"
        ],
        [
         "0",
         "Automated",
         "149035.88"
        ]
       ],
       "shape": {
        "columns": 2,
        "rows": 3
       }
      },
      "text/html": [
       "<div>\n",
       "<style scoped>\n",
       "    .dataframe tbody tr th:only-of-type {\n",
       "        vertical-align: middle;\n",
       "    }\n",
       "\n",
       "    .dataframe tbody tr th {\n",
       "        vertical-align: top;\n",
       "    }\n",
       "\n",
       "    .dataframe thead th {\n",
       "        text-align: right;\n",
       "    }\n",
       "</style>\n",
       "<table border=\"1\" class=\"dataframe\">\n",
       "  <thead>\n",
       "    <tr style=\"text-align: right;\">\n",
       "      <th></th>\n",
       "      <th>inspection_method</th>\n",
       "      <th>repair_cost</th>\n",
       "    </tr>\n",
       "  </thead>\n",
       "  <tbody>\n",
       "    <tr>\n",
       "      <th>1</th>\n",
       "      <td>Manual</td>\n",
       "      <td>185178.29</td>\n",
       "    </tr>\n",
       "    <tr>\n",
       "      <th>2</th>\n",
       "      <td>Visual</td>\n",
       "      <td>173412.98</td>\n",
       "    </tr>\n",
       "    <tr>\n",
       "      <th>0</th>\n",
       "      <td>Automated</td>\n",
       "      <td>149035.88</td>\n",
       "    </tr>\n",
       "  </tbody>\n",
       "</table>\n",
       "</div>"
      ],
      "text/plain": [
       "  inspection_method  repair_cost\n",
       "1            Manual    185178.29\n",
       "2            Visual    173412.98\n",
       "0         Automated    149035.88"
      ]
     },
     "execution_count": 555,
     "metadata": {},
     "output_type": "execute_result"
    }
   ],
   "source": [
    "# rename categories\n",
    "cost_inspection['inspection_method'] = cost_inspection['inspection_method'].replace({\n",
    "    'Manual Testing':'Manual',\n",
    "    'Visual Inspection':'Visual',\n",
    "    'Automated Testing':'Automated'\n",
    "})\n",
    "cost_inspection"
   ]
  },
  {
   "cell_type": "code",
   "execution_count": 556,
   "id": "1116f7f6",
   "metadata": {},
   "outputs": [
    {
     "data": {
      "image/png": "[encoded data removed]",
      "text/plain": [
       "<Figure size 500x300 with 1 Axes>"
      ]
     },
     "metadata": {},
     "output_type": "display_data"
    }
   ],
   "source": [
    "# bar graph\n",
    "plt.figure(figsize=(5,3))\n",
    "bars = plt.bar(cost_inspection['inspection_method'],cost_inspection['repair_cost']/1000,\n",
    "               color='#126782')\n",
    "plt.title('Total Repair Cost by Inspection Method')\n",
    "plt.ylabel('Cost (in thousand $)')\n",
    "\n",
    "# bar label\n",
    "plt.bar_label(bars,(cost_inspection['repair_cost']/1000).round(0).astype(int),\n",
    "              padding=3)\n",
    "plt.margins(y=0.1)\n",
    "plt.show()"
   ]
  },
  {
   "cell_type": "markdown",
   "id": "7bece635",
   "metadata": {},
   "source": [
    "# Hypothesis Testing"
   ]
  },
  {
   "cell_type": "markdown",
   "id": "0bd484aa",
   "metadata": {},
   "source": [
    "## Count of Defects"
   ]
  },
  {
   "cell_type": "markdown",
   "id": "5dec9470",
   "metadata": {},
   "source": [
    "### Defect Type"
   ]
  },
  {
   "cell_type": "markdown",
   "id": "c3b2c33a",
   "metadata": {},
   "source": [
    "ANOM\n",
    "<br>Ho: Structural = Functional = Cosmetic\n",
    "<br>Ha: at least 1 is different"
   ]
  },
  {
   "cell_type": "code",
   "execution_count": 557,
   "id": "234aafa7",
   "metadata": {},
   "outputs": [],
   "source": [
    "# count of defect type\n",
    "sample_size = n_dtype['count'].sum()\n",
    "n_structural = n_dtype[n_dtype['defect_type']=='Structural']['count'].values[0]\n",
    "n_functional = n_dtype[n_dtype['defect_type']=='Functional']['count'].values[0]\n",
    "n_cosmetic = n_dtype[n_dtype['defect_type']=='Cosmetic']['count'].values[0]\n",
    "\n",
    "# ANOM\n",
    "chi_stat, p_value, table = proportions_chisquare(\n",
    "    count= [n_structural,n_functional,n_cosmetic],\n",
    "    nobs=[sample_size]\n",
    ")"
   ]
  },
  {
   "cell_type": "code",
   "execution_count": 558,
   "id": "98b6c596",
   "metadata": {},
   "outputs": [
    {
     "data": {
      "text/plain": [
       "np.float64(0.11208474970957376)"
      ]
     },
     "execution_count": 558,
     "metadata": {},
     "output_type": "execute_result"
    }
   ],
   "source": [
    "# probability value\n",
    "p_value"
   ]
  },
  {
   "cell_type": "code",
   "execution_count": 559,
   "id": "cd6bb3c2",
   "metadata": {},
   "outputs": [
    {
     "name": "stdout",
     "output_type": "stream",
     "text": [
      "There is no significant difference between the defect types.\n"
     ]
    }
   ],
   "source": [
    "# verdict\n",
    "alpha = 0.05\n",
    "\n",
    "if p_value < alpha:\n",
    "    # reject null hypothesis\n",
    "    print(\"at least 1 of the defect types is different.\")\n",
    "else:\n",
    "    # fail to reject null hypothesis\n",
    "    print(\"There is no significant difference between the defect types.\")"
   ]
  },
  {
   "cell_type": "code",
   "execution_count": 560,
   "id": "44210f1f",
   "metadata": {},
   "outputs": [
    {
     "data": {
      "image/png": "[encoded data removed]",
      "text/plain": [
       "<Figure size 500x300 with 1 Axes>"
      ]
     },
     "metadata": {},
     "output_type": "display_data"
    }
   ],
   "source": [
    "# proportion bar graph\n",
    "p_structural = ((n_structural/sample_size)*100).round(1)\n",
    "p_functional = ((n_functional/sample_size)*100).round(1)\n",
    "p_cosmetic = ((n_cosmetic/sample_size)*100).round(1)\n",
    "\n",
    "plt.figure(figsize=(5,3))\n",
    "bars = plt.bar(n_dtype['defect_type'],[p_structural,p_functional,p_cosmetic],\n",
    "               color='#126782')\n",
    "plt.title('Defect Type Proportions')\n",
    "plt.ylabel('Proportion (%)')\n",
    "plt.ylim([0,100])\n",
    "\n",
    "# bar label\n",
    "plt.bar_label(bars,[f'{p}%' for p in [p_structural,p_functional,p_cosmetic]])\n",
    "plt.show()"
   ]
  },
  {
   "cell_type": "markdown",
   "id": "90e7993e",
   "metadata": {},
   "source": [
    "### Defect Location"
   ]
  },
  {
   "cell_type": "markdown",
   "id": "528ac091",
   "metadata": {},
   "source": [
    "ANOM\n",
    "<br>Ho: Surface = Component = Internal\n",
    "<br>Ha: at least 1 is different"
   ]
  },
  {
   "cell_type": "code",
   "execution_count": 561,
   "id": "2ae669c6",
   "metadata": {},
   "outputs": [],
   "source": [
    "# count of defect location\n",
    "n_surface = n_dloc[n_dloc['defect_location']=='Surface']['count'].values[0]\n",
    "n_component = n_dloc[n_dloc['defect_location']=='Component']['count'].values[0]\n",
    "n_internal = n_dloc[n_dloc['defect_location']=='Internal']['count'].values[0]\n",
    "\n",
    "# ANOM\n",
    "chi_stat, p_value, table = proportions_chisquare(\n",
    "    count= [n_surface,n_component,n_internal],\n",
    "    nobs=[sample_size]\n",
    ")"
   ]
  },
  {
   "cell_type": "code",
   "execution_count": 562,
   "id": "c4f44b4f",
   "metadata": {},
   "outputs": [
    {
     "data": {
      "text/plain": [
       "np.float64(0.2635532089202421)"
      ]
     },
     "execution_count": 562,
     "metadata": {},
     "output_type": "execute_result"
    }
   ],
   "source": [
    "# probability value\n",
    "p_value"
   ]
  },
  {
   "cell_type": "code",
   "execution_count": 563,
   "id": "0476b70d",
   "metadata": {},
   "outputs": [
    {
     "name": "stdout",
     "output_type": "stream",
     "text": [
      "There is no significant difference between the defect locations.\n"
     ]
    }
   ],
   "source": [
    "# verdict\n",
    "alpha = 0.05\n",
    "\n",
    "if p_value < alpha:\n",
    "    # reject null hypothesis\n",
    "    print(\"at least 1 of the defect locations is different.\")\n",
    "else:\n",
    "    # fail to reject null hypothesis\n",
    "    print(\"There is no significant difference between the defect locations.\")"
   ]
  },
  {
   "cell_type": "code",
   "execution_count": 564,
   "id": "0a5b37b9",
   "metadata": {},
   "outputs": [
    {
     "data": {
      "image/png": "[encoded data removed]",
      "text/plain": [
       "<Figure size 500x300 with 1 Axes>"
      ]
     },
     "metadata": {},
     "output_type": "display_data"
    }
   ],
   "source": [
    "# proportion bar graph\n",
    "p_surface = ((n_surface/sample_size)*100).round(1)\n",
    "p_component = ((n_component/sample_size)*100).round(1)\n",
    "p_internal = ((n_internal/sample_size)*100).round(1)\n",
    "\n",
    "plt.figure(figsize=(5,3))\n",
    "bars = plt.bar(n_dloc['defect_location'],[p_surface,p_component,p_internal],\n",
    "               color='#126782')\n",
    "plt.title('Defect Location Proportions')\n",
    "plt.ylabel('Proportion (%)')\n",
    "plt.ylim([0,100])\n",
    "\n",
    "# bar label\n",
    "plt.bar_label(bars,[f'{p}%' for p in [p_surface,p_component,p_internal]])\n",
    "plt.show()"
   ]
  },
  {
   "cell_type": "markdown",
   "id": "d449f8d0",
   "metadata": {},
   "source": [
    "### Severity"
   ]
  },
  {
   "cell_type": "markdown",
   "id": "e5a758ec",
   "metadata": {},
   "source": [
    "ANOM\n",
    "<br>Ho: Minor = Critical = Moderate\n",
    "<br>Ha: at least 1 is different"
   ]
  },
  {
   "cell_type": "code",
   "execution_count": 565,
   "id": "66eeb38e",
   "metadata": {},
   "outputs": [],
   "source": [
    "# count of defect type\n",
    "n_minor = n_severity[n_severity['severity']=='Minor']['count'].values[0]\n",
    "n_critical = n_severity[n_severity['severity']=='Critical']['count'].values[0]\n",
    "n_moderate = n_severity[n_severity['severity']=='Moderate']['count'].values[0]\n",
    "\n",
    "# ANOM\n",
    "chi_stat, p_value, table = proportions_chisquare(\n",
    "    count= [n_minor,n_critical,n_moderate],\n",
    "    nobs=[sample_size]\n",
    ")"
   ]
  },
  {
   "cell_type": "code",
   "execution_count": 566,
   "id": "482a2dbd",
   "metadata": {},
   "outputs": [
    {
     "data": {
      "text/plain": [
       "np.float64(0.06710478003905303)"
      ]
     },
     "execution_count": 566,
     "metadata": {},
     "output_type": "execute_result"
    }
   ],
   "source": [
    "# probability value\n",
    "p_value"
   ]
  },
  {
   "cell_type": "code",
   "execution_count": 567,
   "id": "2e259501",
   "metadata": {},
   "outputs": [
    {
     "name": "stdout",
     "output_type": "stream",
     "text": [
      "There is no significant difference between the defect severities.\n"
     ]
    }
   ],
   "source": [
    "# verdict\n",
    "alpha = 0.05\n",
    "\n",
    "if p_value < alpha:\n",
    "    # reject null hypothesis\n",
    "    print(\"at least 1 of the defect severities is different.\")\n",
    "else:\n",
    "    # fail to reject null hypothesis\n",
    "    print(\"There is no significant difference between the defect severities.\")"
   ]
  },
  {
   "cell_type": "code",
   "execution_count": 568,
   "id": "1a088aca",
   "metadata": {},
   "outputs": [
    {
     "data": {
      "image/png": "[encoded data removed]",
      "text/plain": [
       "<Figure size 500x300 with 1 Axes>"
      ]
     },
     "metadata": {},
     "output_type": "display_data"
    }
   ],
   "source": [
    "# proportion bar graph\n",
    "p_minor = ((n_minor/sample_size)*100).round(1)\n",
    "p_critical = ((n_critical/sample_size)*100).round(1)\n",
    "p_moderate = ((n_moderate/sample_size)*100).round(1)\n",
    "\n",
    "plt.figure(figsize=(5,3))\n",
    "bars = plt.bar(n_severity['severity'],[p_minor,p_critical,p_moderate],\n",
    "               color='#126782')\n",
    "plt.title('Defect Severity Proportions')\n",
    "plt.ylabel('Proportion (%)')\n",
    "plt.ylim([0,100])\n",
    "\n",
    "# bar label\n",
    "plt.bar_label(bars,[f'{p}%' for p in [p_minor,p_critical,p_moderate]])\n",
    "plt.show()"
   ]
  },
  {
   "cell_type": "markdown",
   "id": "3e13e4c0",
   "metadata": {},
   "source": [
    "### Inspection Method"
   ]
  },
  {
   "cell_type": "markdown",
   "id": "e6d975e1",
   "metadata": {},
   "source": [
    "ANOM\n",
    "<br>Ho: Manual = Visual = Automated\n",
    "<br>Ha: at least 1 is different"
   ]
  },
  {
   "cell_type": "code",
   "execution_count": 569,
   "id": "07dd467a",
   "metadata": {},
   "outputs": [],
   "source": [
    "# count of defect type\n",
    "n_manual = n_inspection[n_inspection['inspection_method']=='Manual']['count'].values[0]\n",
    "n_visual = n_inspection[n_inspection['inspection_method']=='Visual']['count'].values[0]\n",
    "n_auto = n_inspection[n_inspection['inspection_method']=='Automated']['count'].values[0]\n",
    "\n",
    "# ANOM\n",
    "chi_stat, p_value, table = proportions_chisquare(\n",
    "    count= [n_manual,n_visual,n_auto],\n",
    "    nobs=[sample_size]\n",
    ")"
   ]
  },
  {
   "cell_type": "code",
   "execution_count": 570,
   "id": "4e1d0b51",
   "metadata": {},
   "outputs": [
    {
     "data": {
      "text/plain": [
       "np.float64(0.011602902461144883)"
      ]
     },
     "execution_count": 570,
     "metadata": {},
     "output_type": "execute_result"
    }
   ],
   "source": [
    "# probability value\n",
    "p_value"
   ]
  },
  {
   "cell_type": "code",
   "execution_count": 571,
   "id": "38960b1f",
   "metadata": {},
   "outputs": [
    {
     "name": "stdout",
     "output_type": "stream",
     "text": [
      "at least 1 of the inspection methods is different.\n"
     ]
    }
   ],
   "source": [
    "# verdict\n",
    "alpha = 0.05\n",
    "\n",
    "if p_value < alpha:\n",
    "    # reject null hypothesis\n",
    "    print(\"at least 1 of the inspection methods is different.\")\n",
    "else:\n",
    "    # fail to reject null hypothesis\n",
    "    print(\"There is no significant difference between inspection methods.\")"
   ]
  },
  {
   "cell_type": "code",
   "execution_count": 572,
   "id": "072599bd",
   "metadata": {},
   "outputs": [
    {
     "data": {
      "image/png": "[encoded data removed]",
      "text/plain": [
       "<Figure size 500x300 with 1 Axes>"
      ]
     },
     "metadata": {},
     "output_type": "display_data"
    }
   ],
   "source": [
    "# proportion bar graph\n",
    "p_manual = ((n_manual/sample_size)*100).round(1)\n",
    "p_visual = ((n_visual/sample_size)*100).round(1)\n",
    "p_auto = ((n_auto/sample_size)*100).round(1)\n",
    "\n",
    "plt.figure(figsize=(5,3))\n",
    "bars = plt.bar(n_inspection['inspection_method'],[p_manual,p_visual,p_auto],\n",
    "               color='#126782')\n",
    "plt.title('Inspection Method Proportions')\n",
    "plt.ylabel('Proportion (%)')\n",
    "plt.ylim([0,100])\n",
    "\n",
    "# bar label\n",
    "plt.bar_label(bars,[f'{p}%' for p in [p_manual,p_visual,p_auto]])\n",
    "plt.show()"
   ]
  },
  {
   "cell_type": "markdown",
   "id": "630dca81",
   "metadata": {},
   "source": [
    "2 Proportion Test\n",
    "<br>Hypothesis: Automated inspection has lower defect rate\n",
    "<br>Ho: auto >= manual\n",
    "<br>Ha: auto < manual"
   ]
  },
  {
   "cell_type": "code",
   "execution_count": 573,
   "id": "10fab336",
   "metadata": {},
   "outputs": [],
   "source": [
    "# left-tailed test\n",
    "z_stat, p_value = proportions_ztest(\n",
    "    count=[n_auto,n_manual],\n",
    "    nobs=[sample_size],\n",
    "    alternative='smaller'\n",
    ")"
   ]
  },
  {
   "cell_type": "code",
   "execution_count": 574,
   "id": "799cff48",
   "metadata": {},
   "outputs": [
    {
     "data": {
      "text/plain": [
       "np.float64(0.004309548563345003)"
      ]
     },
     "execution_count": 574,
     "metadata": {},
     "output_type": "execute_result"
    }
   ],
   "source": [
    "# probability value\n",
    "p_value"
   ]
  },
  {
   "cell_type": "code",
   "execution_count": 575,
   "id": "4e39bcf0",
   "metadata": {},
   "outputs": [
    {
     "name": "stdout",
     "output_type": "stream",
     "text": [
      "Automated inspection method has lower defect rate compared to manual inspection.\n"
     ]
    }
   ],
   "source": [
    "# verdict\n",
    "alpha = 0.05\n",
    "\n",
    "if p_value < alpha:\n",
    "    # reject null hypothesis\n",
    "    print(\"Automated inspection method has lower defect rate compared to manual inspection.\")\n",
    "else:\n",
    "    # fail to reject null hypothesis\n",
    "    print(\"There is no significant difference between automated and manual inspection method.\")"
   ]
  },
  {
   "cell_type": "markdown",
   "id": "51fa2062",
   "metadata": {},
   "source": [
    "Power"
   ]
  },
  {
   "cell_type": "code",
   "execution_count": 576,
   "id": "dfd79c31",
   "metadata": {},
   "outputs": [
    {
     "name": "stdout",
     "output_type": "stream",
     "text": [
      "Power of the test: 29.86%\n"
     ]
    }
   ],
   "source": [
    "# power of the test\n",
    "p_auto = n_auto/sample_size\n",
    "p_manual = n_manual/sample_size\n",
    "coheen_h = abs(proportion_effectsize(p_auto,p_manual))\n",
    "\n",
    "power = TTestIndPower().solve_power(\n",
    "    effect_size = coheen_h,\n",
    "    nobs1 = n_auto,\n",
    "    ratio = 1,\n",
    "    alpha = 0.05\n",
    ")\n",
    "print(\"Power of the test: \" +  str((power*100).round(2)) + \"%\")"
   ]
  },
  {
   "cell_type": "markdown",
   "id": "7b3b36f1",
   "metadata": {},
   "source": [
    "Recommended Sample Size"
   ]
  },
  {
   "cell_type": "code",
   "execution_count": 577,
   "id": "941a0eac",
   "metadata": {},
   "outputs": [
    {
     "name": "stdout",
     "output_type": "stream",
     "text": [
      "Recommended sample size: 1137\n"
     ]
    }
   ],
   "source": [
    "# 80% power\n",
    "sample_80p = TTestIndPower().solve_power(\n",
    "    effect_size = coheen_h,\n",
    "    power = 0.8,\n",
    "    ratio = 1,\n",
    "    alpha = 0.05\n",
    ")\n",
    "print(\"Recommended sample size: \" + str(np.round(sample_80p).astype(int)))"
   ]
  }
 ],
 "metadata": {
  "kernelspec": {
   "display_name": "Python 3",
   "language": "python",
   "name": "python3"
  },
  "language_info": {
   "codemirror_mode": {
    "name": "ipython",
    "version": 3
   },
   "file_extension": ".py",
   "mimetype": "text/x-python",
   "name": "python",
   "nbconvert_exporter": "python",
   "pygments_lexer": "ipython3",
   "version": "3.13.3"
  }
 },
 "nbformat": 4,
 "nbformat_minor": 5
}
